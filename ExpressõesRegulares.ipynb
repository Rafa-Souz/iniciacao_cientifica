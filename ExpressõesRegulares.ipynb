{
 "cells": [
  {
   "cell_type": "markdown",
   "metadata": {},
   "source": [
    "### Semana de Ciência e Tecnologia do IFMG\n",
    "Exemplo utilizado na apresentação"
   ]
  },
  {
   "cell_type": "code",
   "execution_count": 1,
   "metadata": {},
   "outputs": [
    {
     "data": {
      "text/plain": [
       "['dad', 'dad']"
      ]
     },
     "execution_count": 1,
     "metadata": {},
     "output_type": "execute_result"
    }
   ],
   "source": [
    "import re\n",
    "texto1 = \" um dado continua sendo um dado mesmo da...\"\n",
    "viwer1_0 = re.findall(\"dad\", texto1)\n",
    "viwer1_1 = re.findall(\"dad.\", texto1)\n",
    "viwer1_2 = re.findall(\"dad*\", texto1)\n",
    "viwer1_3 = re.findall(\"dad?\", texto1)\n",
    "viwer1_4 = re.findall(\"dad*.?\", texto1)\n",
    "viwer1_0"
   ]
  },
  {
   "cell_type": "code",
   "execution_count": 2,
   "metadata": {},
   "outputs": [
    {
     "data": {
      "text/plain": [
       "['dado', 'dado']"
      ]
     },
     "execution_count": 2,
     "metadata": {},
     "output_type": "execute_result"
    }
   ],
   "source": [
    "viwer1_1"
   ]
  },
  {
   "cell_type": "code",
   "execution_count": 3,
   "metadata": {},
   "outputs": [
    {
     "data": {
      "text/plain": [
       "['dad', 'dad', 'da']"
      ]
     },
     "execution_count": 3,
     "metadata": {},
     "output_type": "execute_result"
    }
   ],
   "source": [
    "viwer1_2"
   ]
  },
  {
   "cell_type": "code",
   "execution_count": 4,
   "metadata": {},
   "outputs": [
    {
     "data": {
      "text/plain": [
       "['dad', 'dad', 'da']"
      ]
     },
     "execution_count": 4,
     "metadata": {},
     "output_type": "execute_result"
    }
   ],
   "source": [
    "viwer1_3"
   ]
  },
  {
   "cell_type": "code",
   "execution_count": 5,
   "metadata": {},
   "outputs": [
    {
     "data": {
      "text/plain": [
       "['dado', 'dado', 'da.']"
      ]
     },
     "execution_count": 5,
     "metadata": {},
     "output_type": "execute_result"
    }
   ],
   "source": [
    "viwer1_4"
   ]
  },
  {
   "cell_type": "code",
   "execution_count": null,
   "metadata": {},
   "outputs": [],
   "source": []
  },
  {
   "cell_type": "markdown",
   "metadata": {},
   "source": [
    "### Exemplo 1"
   ]
  },
  {
   "cell_type": "code",
   "execution_count": 1,
   "metadata": {},
   "outputs": [],
   "source": [
    "import re                                             #Importação de biblioteca\n",
    "text = \"Dados são dados, e com eles não se discute!\"  #Declaração de uma sequência de caracteres\n",
    "teste1 = re.findall(\"dados\", text)                    #Método onde irá buscar a correspondência \"dados\" dentro de \"text\""
   ]
  },
  {
   "cell_type": "code",
   "execution_count": 2,
   "metadata": {},
   "outputs": [
    {
     "name": "stdout",
     "output_type": "stream",
     "text": [
      "['dados']\n"
     ]
    }
   ],
   "source": [
    "print (teste1)  #Nos retornou a palavra \"\"\"dados\" que correspondia completamente com o modelo no argumento acima\"\""
   ]
  },
  {
   "cell_type": "markdown",
   "metadata": {},
   "source": [
    "### Exemplo 2"
   ]
  },
  {
   "cell_type": "code",
   "execution_count": 1,
   "metadata": {},
   "outputs": [],
   "source": [
    "import re                                             #Importação de biblioteca\n",
    "text = \"Dados são dados, e com eles não se discute!\"  #Declaração de uma sequência de caracteres\n",
    "teste1 = re.findall(\"[D,d]ados\", text)                    #Método onde irá buscar a correspondência \"dados\" dentro de \"text\""
   ]
  },
  {
   "cell_type": "code",
   "execution_count": 2,
   "metadata": {},
   "outputs": [
    {
     "name": "stdout",
     "output_type": "stream",
     "text": [
      "['Dados', 'dados']\n"
     ]
    }
   ],
   "source": [
    "print (teste1)  #Nos retornou a palavra \"Dados\" e \"dados\" por conta disjunção [D,d] na posição do caractere inicial"
   ]
  },
  {
   "cell_type": "markdown",
   "metadata": {},
   "source": [
    "### Exemplo 3"
   ]
  },
  {
   "cell_type": "code",
   "execution_count": 1,
   "metadata": {},
   "outputs": [],
   "source": [
    "import re                                      #Importação de biblioteca\n",
    "text = \"O carro parou na beira da estrada...\"  #Declaração de uma sequência de caracteres\n",
    "teste1 = re.findall(\"[O,o,p]\", text)           #busca dos carcateres de forma individual"
   ]
  },
  {
   "cell_type": "code",
   "execution_count": 2,
   "metadata": {},
   "outputs": [
    {
     "name": "stdout",
     "output_type": "stream",
     "text": [
      "['O', 'o', 'p', 'o']\n"
     ]
    }
   ],
   "source": [
    "print(teste1)                                  #Retorno com as correspondências em questão"
   ]
  },
  {
   "cell_type": "markdown",
   "metadata": {},
   "source": [
    "### Exemplo 4"
   ]
  },
  {
   "cell_type": "code",
   "execution_count": 1,
   "metadata": {},
   "outputs": [
    {
     "name": "stdout",
     "output_type": "stream",
     "text": [
      "['B']\n"
     ]
    }
   ],
   "source": [
    "import re                                      #Importação de biblioteca\n",
    "text = \"O carro parou na beira da estrada 27, mas Billy apareceu ...\"  #Declaração de uma sequência de caracteres\n",
    "teste1 = re.findall(\"[A-G]\", text)           #RANGE DE CARACTERES\n",
    "print(teste1) "
   ]
  },
  {
   "cell_type": "code",
   "execution_count": 6,
   "metadata": {},
   "outputs": [
    {
     "name": "stdout",
     "output_type": "stream",
     "text": [
      "['2', '7']\n"
     ]
    }
   ],
   "source": [
    "teste2 = re.findall(\"[1-9]\", text)      #USANDO AGORA UM RANGE COM NUMEROS\n",
    "print(teste2) "
   ]
  },
  {
   "cell_type": "markdown",
   "metadata": {},
   "source": [
    "### Exemplo 4"
   ]
  },
  {
   "cell_type": "code",
   "execution_count": 7,
   "metadata": {},
   "outputs": [
    {
     "name": "stdout",
     "output_type": "stream",
     "text": [
      "['l', 'g', 'r', 'i', 't', 'm', ' ']\n"
     ]
    }
   ],
   "source": [
    "text2 = \"Algoritmo \"                #Declaração de string de teste\n",
    "teste3 = re.findall(\"[^A,o]\",text2)  #Definição de regra de filtro de exclusão de pesquisa\n",
    "print(teste3)                        #Printa a lista de caracteres gerada"
   ]
  },
  {
   "cell_type": "markdown",
   "metadata": {},
   "source": [
    "### Exemplo 5"
   ]
  },
  {
   "cell_type": "code",
   "execution_count": 2,
   "metadata": {},
   "outputs": [
    {
     "data": {
      "text/plain": [
       "'É preciso uestionar para o melhor Esclarecimento Possível.'"
      ]
     },
     "execution_count": 2,
     "metadata": {},
     "output_type": "execute_result"
    }
   ],
   "source": [
    "text3 = \"É preciso questionar para o melhor Esclarecimento Possível.\" #Declaração de string de teste\n",
    "teste4 = re.findall(\"[^q]\", text3)                                    #Definição de regra de filtro de exclusão de pesquisa\n",
    "\"\".join(teste4)                                                       #Comando \"\".join concatena os valores de uma lista e os printa"
   ]
  },
  {
   "cell_type": "code",
   "execution_count": 3,
   "metadata": {},
   "outputs": [
    {
     "data": {
      "text/plain": [
       "'É prciso qustionar para o mlhor sclarcimnto Possívl.'"
      ]
     },
     "execution_count": 3,
     "metadata": {},
     "output_type": "execute_result"
    }
   ],
   "source": [
    "teste5 = re.findall(\"[^E,e]\",text3)                                   #Definição de regra de filtro de exclusão de pesquisa\n",
    "\"\".join(teste5)                                                       #Comando \"\".join concatena os valores de uma lista e os printa"
   ]
  },
  {
   "cell_type": "code",
   "execution_count": 4,
   "metadata": {},
   "outputs": [
    {
     "data": {
      "text/plain": [
       "'É reciso questionar ara o melhor Esclarecimento ossível.'"
      ]
     },
     "execution_count": 4,
     "metadata": {},
     "output_type": "execute_result"
    }
   ],
   "source": [
    "teste6 = re.findall(\"[^P,p]\",text3)                                   #Definição de regra de filtro de exclusão de pesquisa\n",
    "\"\".join(teste6)                                                       #Comando \"\".join concatena os valores de uma lista e os printa"
   ]
  },
  {
   "cell_type": "markdown",
   "metadata": {},
   "source": [
    "### Exemplo 6"
   ]
  },
  {
   "cell_type": "code",
   "execution_count": 2,
   "metadata": {},
   "outputs": [
    {
     "name": "stdout",
     "output_type": "stream",
     "text": [
      "['algoritmo', 'algoritmos']\n"
     ]
    }
   ],
   "source": [
    "text4 = \"Algoritmo, algoritmo ou algoritmos? \"                       #Declaração de string de teste\n",
    "teste7 = re.findall(\"algoritmos?\",text4)                             #Definição de regra de filtro de exclusão de pesquisa\n",
    "print(teste7)                                                        #exibição do valor da expressão anteiror"
   ]
  },
  {
   "cell_type": "code",
   "execution_count": 3,
   "metadata": {},
   "outputs": [
    {
     "name": "stdout",
     "output_type": "stream",
     "text": [
      "['algoritmos']\n"
     ]
    }
   ],
   "source": [
    "teste8 = re.findall(\"algoritmo?s\",text4)                             #Definição de regra de filtro de exclusão de pesquisa\n",
    "print(teste8)                                                        #exibição do valor da expressão anteiror"
   ]
  },
  {
   "cell_type": "code",
   "execution_count": null,
   "metadata": {},
   "outputs": [],
   "source": []
  }
 ],
 "metadata": {
  "kernelspec": {
   "display_name": "Python 3",
   "language": "python",
   "name": "python3"
  },
  "language_info": {
   "codemirror_mode": {
    "name": "ipython",
    "version": 3
   },
   "file_extension": ".py",
   "mimetype": "text/x-python",
   "name": "python",
   "nbconvert_exporter": "python",
   "pygments_lexer": "ipython3",
   "version": "3.7.6"
  }
 },
 "nbformat": 4,
 "nbformat_minor": 4
}
