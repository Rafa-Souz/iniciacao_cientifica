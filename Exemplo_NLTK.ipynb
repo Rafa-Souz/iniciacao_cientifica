{
 "cells": [
  {
   "cell_type": "code",
   "execution_count": 1,
   "metadata": {},
   "outputs": [],
   "source": [
    "import nltk\n",
    "from nltk.corpus import treebank\n",
    "## nltk.download('punkt')\n",
    "## nltk.download('averaged_perceptron_tagger')\n",
    "## nltk.download('maxent_ne_chunker') \n",
    "## nltk.download('words')\n",
    "## nltk.download('treebank') "
   ]
  },
  {
   "cell_type": "code",
   "execution_count": 2,
   "metadata": {},
   "outputs": [],
   "source": [
    "sentence = \"\"\"Tomaz ainda não voltou\n",
    "... Estou ficando preocupado por conta do horário.\"\"\"\n",
    "##sentença\n",
    "##Setence"
   ]
  },
  {
   "cell_type": "code",
   "execution_count": 3,
   "metadata": {},
   "outputs": [],
   "source": [
    "tokens = nltk.word_tokenize(sentence)\n",
    "##o comando word_tokenize divide a string em partes, separando cada palavra individualmente\n",
    "##the word_tokenize command splits the string into parts, separating each word individually"
   ]
  },
  {
   "cell_type": "code",
   "execution_count": 4,
   "metadata": {},
   "outputs": [
    {
     "data": {
      "text/plain": [
       "['Tomaz',\n",
       " 'ainda',\n",
       " 'não',\n",
       " 'voltou',\n",
       " 'Estou',\n",
       " 'ficando',\n",
       " 'preocupado',\n",
       " 'por',\n",
       " 'conta',\n",
       " 'do',\n",
       " 'horário',\n",
       " '.']"
      ]
     },
     "execution_count": 4,
     "metadata": {},
     "output_type": "execute_result"
    }
   ],
   "source": [
    "tokens"
   ]
  },
  {
   "cell_type": "code",
   "execution_count": 5,
   "metadata": {},
   "outputs": [],
   "source": [
    "marcacao = nltk.pos_tag(tokens)\n",
    "##insere as classificações da palavra tokenizadas\n",
    "##insert tokenized word classifications"
   ]
  },
  {
   "cell_type": "code",
   "execution_count": 6,
   "metadata": {},
   "outputs": [
    {
     "data": {
      "text/plain": [
       "[('Tomaz', 'NNP'),\n",
       " ('ainda', 'NN'),\n",
       " ('não', 'NN'),\n",
       " ('voltou', 'NN'),\n",
       " ('Estou', 'NNP'),\n",
       " ('ficando', 'NN'),\n",
       " ('preocupado', 'NN'),\n",
       " ('por', 'NN'),\n",
       " ('conta', 'NN'),\n",
       " ('do', 'VBP'),\n",
       " ('horário', 'NN'),\n",
       " ('.', '.')]"
      ]
     },
     "execution_count": 6,
     "metadata": {},
     "output_type": "execute_result"
    }
   ],
   "source": [
    "marcacao"
   ]
  },
  {
   "cell_type": "code",
   "execution_count": 7,
   "metadata": {},
   "outputs": [],
   "source": [
    "entities = nltk.chunk.ne_chunk(marcacao)\n",
    "##escopo da árvore\n",
    "##tree scope"
   ]
  },
  {
   "cell_type": "code",
   "execution_count": 8,
   "metadata": {},
   "outputs": [
    {
     "name": "stdout",
     "output_type": "stream",
     "text": [
      "(S\n",
      "  (GPE Tomaz/NNP)\n",
      "  ainda/NN\n",
      "  não/NN\n",
      "  voltou/NN\n",
      "  (PERSON Estou/NNP)\n",
      "  ficando/NN\n",
      "  preocupado/NN\n",
      "  por/NN\n",
      "  conta/NN\n",
      "  do/VBP\n",
      "  horário/NN\n",
      "  ./.)\n"
     ]
    }
   ],
   "source": [
    "print(entities)"
   ]
  },
  {
   "cell_type": "code",
   "execution_count": 9,
   "metadata": {},
   "outputs": [],
   "source": [
    " t = treebank.parsed_sents('wsj_0001.mrg')[0]\n",
    "##pré estruturação da árvore\n",
    "##tree pre-structuring"
   ]
  },
  {
   "cell_type": "code",
   "execution_count": null,
   "metadata": {},
   "outputs": [],
   "source": [
    "t.draw()\n",
    "##Exibição da árvore\n",
    "##tree view"
   ]
  },
  {
   "cell_type": "code",
   "execution_count": null,
   "metadata": {},
   "outputs": [],
   "source": []
  }
 ],
 "metadata": {
  "kernelspec": {
   "display_name": "Python 3",
   "language": "python",
   "name": "python3"
  },
  "language_info": {
   "codemirror_mode": {
    "name": "ipython",
    "version": 3
   },
   "file_extension": ".py",
   "mimetype": "text/x-python",
   "name": "python",
   "nbconvert_exporter": "python",
   "pygments_lexer": "ipython3",
   "version": "3.7.6"
  }
 },
 "nbformat": 4,
 "nbformat_minor": 4
}
